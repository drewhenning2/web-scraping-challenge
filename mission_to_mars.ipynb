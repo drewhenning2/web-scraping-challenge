{
 "cells": [
  {
   "cell_type": "markdown",
   "metadata": {},
   "source": [
    "## Initial Setup"
   ]
  },
  {
   "cell_type": "markdown",
   "metadata": {},
   "source": [
    "##### Import dependencies and install Chrome Driver"
   ]
  },
  {
   "cell_type": "code",
   "execution_count": 1,
   "metadata": {},
   "outputs": [],
   "source": [
    "from splinter import Browser\n",
    "from bs4 import BeautifulSoup\n",
    "from webdriver_manager.chrome import ChromeDriverManager\n",
    "import pandas as pd"
   ]
  },
  {
   "cell_type": "code",
   "execution_count": 2,
   "metadata": {},
   "outputs": [
    {
     "name": "stderr",
     "output_type": "stream",
     "text": [
      "\n",
      "\n",
      "====== WebDriver manager ======\n",
      "Current google-chrome version is 91.0.4472\n",
      "Get LATEST driver version for 91.0.4472\n",
      "Driver [/Users/drewhenning/.wdm/drivers/chromedriver/mac64/91.0.4472.101/chromedriver] found in cache\n"
     ]
    }
   ],
   "source": [
    "executable_path = {'executable_path': ChromeDriverManager().install()}\n",
    "browser = Browser('chrome', **executable_path, headless=False)"
   ]
  },
  {
   "cell_type": "markdown",
   "metadata": {},
   "source": [
    "## NASA Mars News"
   ]
  },
  {
   "cell_type": "markdown",
   "metadata": {},
   "source": [
    "##### Visit the website below and collect the latest news title and paragraph text"
   ]
  },
  {
   "cell_type": "code",
   "execution_count": 3,
   "metadata": {},
   "outputs": [
    {
     "name": "stdout",
     "output_type": "stream",
     "text": [
      "news_title = NASA InSight's 'Mole' Is Out of Sight\n",
      "paragraph_text = Now that the heat probe is just below the Martian surface, InSight's arm will scoop some additional soil on top to help it keep digging so it can take Mars' temperature.\n"
     ]
    }
   ],
   "source": [
    "# initiate url\n",
    "url = 'https://redplanetscience.com/'\n",
    "\n",
    "# visit url\n",
    "browser.visit(url)\n",
    "\n",
    "# extract html\n",
    "html = browser.html\n",
    "    \n",
    "# create soup object\n",
    "soup = BeautifulSoup(html, 'html.parser')\n",
    "\n",
    "# get title\n",
    "news_title = soup.find('div', class_='content_title').text\n",
    "\n",
    "# get paragraph text\n",
    "paragraph_text = soup.find('div', class_='article_teaser_body').text\n",
    "\n",
    "# print latest news title and paragrapgh text\n",
    "print(f\"news_title = {news_title}\")\n",
    "print(f\"paragraph_text = {paragraph_text}\")"
   ]
  },
  {
   "cell_type": "markdown",
   "metadata": {},
   "source": [
    "## JPL Mars Space Images"
   ]
  },
  {
   "cell_type": "markdown",
   "metadata": {},
   "source": [
    "##### Visit the website below and use splinter to navigate the site and find the image url for the current Featured Mars Image"
   ]
  },
  {
   "cell_type": "code",
   "execution_count": 4,
   "metadata": {},
   "outputs": [
    {
     "name": "stdout",
     "output_type": "stream",
     "text": [
      "https://spaceimages-mars.com/image/featured/mars1.jpg\n"
     ]
    }
   ],
   "source": [
    "# initiate url\n",
    "url = 'https://spaceimages-mars.com/'\n",
    "\n",
    "# visit url\n",
    "browser.visit(url)\n",
    "\n",
    "# extract html\n",
    "html = browser.html\n",
    "    \n",
    "# create soup object\n",
    "soup = BeautifulSoup(html, 'html.parser')\n",
    "\n",
    "# get featured image url\n",
    "featured_image_url = url + soup.find('a', class_='showimg fancybox-thumbs')['href']\n",
    "print(featured_image_url)"
   ]
  },
  {
   "cell_type": "markdown",
   "metadata": {},
   "source": [
    "## Mars Facts"
   ]
  },
  {
   "cell_type": "markdown",
   "metadata": {},
   "source": [
    "##### Visit the url below and use Pandas to scrape the table containing facts about the planet"
   ]
  },
  {
   "cell_type": "code",
   "execution_count": 5,
   "metadata": {},
   "outputs": [
    {
     "name": "stdout",
     "output_type": "stream",
     "text": [
      "<table border=\"1\" class=\"dataframe\">\n",
      "  <thead>\n",
      "    <tr style=\"text-align: right;\">\n",
      "      <th></th>\n",
      "      <th>Mars</th>\n",
      "      <th>Earth</th>\n",
      "    </tr>\n",
      "    <tr>\n",
      "      <th>Description</th>\n",
      "      <th></th>\n",
      "      <th></th>\n",
      "    </tr>\n",
      "  </thead>\n",
      "  <tbody>\n",
      "    <tr>\n",
      "      <th>Mars - Earth Comparison</th>\n",
      "      <td>Mars</td>\n",
      "      <td>Earth</td>\n",
      "    </tr>\n",
      "    <tr>\n",
      "      <th>Diameter:</th>\n",
      "      <td>6,779 km</td>\n",
      "      <td>12,742 km</td>\n",
      "    </tr>\n",
      "    <tr>\n",
      "      <th>Mass:</th>\n",
      "      <td>6.39 × 10^23 kg</td>\n",
      "      <td>5.97 × 10^24 kg</td>\n",
      "    </tr>\n",
      "    <tr>\n",
      "      <th>Moons:</th>\n",
      "      <td>2</td>\n",
      "      <td>1</td>\n",
      "    </tr>\n",
      "    <tr>\n",
      "      <th>Distance from Sun:</th>\n",
      "      <td>227,943,824 km</td>\n",
      "      <td>149,598,262 km</td>\n",
      "    </tr>\n",
      "    <tr>\n",
      "      <th>Length of Year:</th>\n",
      "      <td>687 Earth days</td>\n",
      "      <td>365.24 days</td>\n",
      "    </tr>\n",
      "    <tr>\n",
      "      <th>Temperature:</th>\n",
      "      <td>-87 to -5 °C</td>\n",
      "      <td>-88 to 58°C</td>\n",
      "    </tr>\n",
      "  </tbody>\n",
      "</table>\n"
     ]
    }
   ],
   "source": [
    "# initiate url\n",
    "url = 'https://galaxyfacts-mars.com'\n",
    "\n",
    "# convert the data to a HTML table string\n",
    "df_mars_facts = pd.read_html(url)\n",
    "\n",
    "# drop earth column\n",
    "df_mars_facts = pd.read_html(url)[0]\n",
    "\n",
    "# rename columns\n",
    "df_mars_facts.columns = ['Description', 'Mars', 'Earth']\n",
    "\n",
    "# set index\n",
    "df_mars_facts = df_mars_facts.set_index('Description')\n",
    "\n",
    "# convert to html format\n",
    "mars_table = df_mars_facts.to_html()\n",
    "\n",
    "# display\n",
    "print(mars_table)"
   ]
  },
  {
   "cell_type": "markdown",
   "metadata": {},
   "source": [
    "## Mars Hemispheres"
   ]
  },
  {
   "cell_type": "markdown",
   "metadata": {},
   "source": [
    "##### Visit the url below and obtain the name and image for each of Mar's four (4) hemispheres"
   ]
  },
  {
   "cell_type": "code",
   "execution_count": 6,
   "metadata": {},
   "outputs": [
    {
     "data": {
      "text/plain": [
       "['Cerberus Hemisphere Enhanced',\n",
       " 'Schiaparelli Hemisphere Enhanced',\n",
       " 'Syrtis Major Hemisphere Enhanced',\n",
       " 'Valles Marineris Hemisphere Enhanced']"
      ]
     },
     "execution_count": 6,
     "metadata": {},
     "output_type": "execute_result"
    }
   ],
   "source": [
    "# initiate url\n",
    "url = 'https://marshemispheres.com/'\n",
    "\n",
    "# visit url\n",
    "browser.visit(url)\n",
    "\n",
    "# extract html\n",
    "html = browser.html\n",
    "    \n",
    "# create soup object\n",
    "soup = BeautifulSoup(html, 'html.parser')\n",
    "    \n",
    "# get title\n",
    "title = soup.find_all('div', class_='description')\n",
    "\n",
    "# loop through the html and create a list of titles\n",
    "titles = []\n",
    "for title in title:\n",
    "    titles.append(title.find('h3').text.strip())\n",
    "\n",
    "# print list of titles\n",
    "titles"
   ]
  },
  {
   "cell_type": "markdown",
   "metadata": {},
   "source": [
    "##### Cerberus URL"
   ]
  },
  {
   "cell_type": "code",
   "execution_count": 7,
   "metadata": {},
   "outputs": [],
   "source": [
    "hemisphere_urls = []"
   ]
  },
  {
   "cell_type": "code",
   "execution_count": 8,
   "metadata": {},
   "outputs": [],
   "source": [
    "# initiate url\n",
    "base_url = 'https://marshemispheres.com/'\n",
    "url = 'https://marshemispheres.com/cerberus.html'\n",
    "\n",
    "# visit url\n",
    "browser.visit(url)\n",
    "\n",
    "# extract html\n",
    "html = browser.html\n",
    "    \n",
    "# create soup object\n",
    "soup = BeautifulSoup(html, 'html.parser')\n",
    "    \n",
    "# get title\n",
    "cerberus_img_url = base_url + soup.find('div', class_='downloads').a['href']\n",
    "\n",
    "hemisphere_urls.append(cerberus_img_url)"
   ]
  },
  {
   "cell_type": "markdown",
   "metadata": {},
   "source": [
    "##### Schiaparelli URL"
   ]
  },
  {
   "cell_type": "code",
   "execution_count": 9,
   "metadata": {},
   "outputs": [],
   "source": [
    "# initiate url\n",
    "base_url = 'https://marshemispheres.com/'\n",
    "url = 'https://marshemispheres.com/schiaparelli.html'\n",
    "\n",
    "# visit url\n",
    "browser.visit(url)\n",
    "\n",
    "# extract html\n",
    "html = browser.html\n",
    "    \n",
    "# create soup object\n",
    "soup = BeautifulSoup(html, 'html.parser')\n",
    "    \n",
    "# get title\n",
    "schiaparelli_img_url = base_url + soup.find('div', class_='downloads').a['href']\n",
    "\n",
    "hemisphere_urls.append(schiaparelli_img_url)"
   ]
  },
  {
   "cell_type": "markdown",
   "metadata": {},
   "source": [
    "##### Syrtis URL"
   ]
  },
  {
   "cell_type": "code",
   "execution_count": 10,
   "metadata": {},
   "outputs": [],
   "source": [
    "# initiate url\n",
    "base_url = 'https://marshemispheres.com/'\n",
    "url = 'https://marshemispheres.com/syrtis.html'\n",
    "\n",
    "# visit url\n",
    "browser.visit(url)\n",
    "\n",
    "# extract html\n",
    "html = browser.html\n",
    "    \n",
    "# create soup object\n",
    "soup = BeautifulSoup(html, 'html.parser')\n",
    "    \n",
    "# get title\n",
    "syrtis_img_url = base_url + soup.find('div', class_='downloads').a['href']\n",
    "\n",
    "hemisphere_urls.append(syrtis_img_url)"
   ]
  },
  {
   "cell_type": "markdown",
   "metadata": {},
   "source": [
    "##### Valles URL"
   ]
  },
  {
   "cell_type": "code",
   "execution_count": 11,
   "metadata": {},
   "outputs": [],
   "source": [
    "# initiate url\n",
    "base_url = 'https://marshemispheres.com/'\n",
    "url = 'https://marshemispheres.com/valles.html'\n",
    "\n",
    "# visit url\n",
    "browser.visit(url)\n",
    "\n",
    "# extract html\n",
    "html = browser.html\n",
    "    \n",
    "# create soup object\n",
    "soup = BeautifulSoup(html, 'html.parser')\n",
    "    \n",
    "# get title\n",
    "valles_img_url = base_url + soup.find('div', class_='downloads').a['href']\n",
    "\n",
    "hemisphere_urls.append(valles_img_url)"
   ]
  },
  {
   "cell_type": "code",
   "execution_count": 12,
   "metadata": {},
   "outputs": [
    {
     "data": {
      "text/plain": [
       "['https://marshemispheres.com/images/full.jpg',\n",
       " 'https://marshemispheres.com/images/schiaparelli_enhanced-full.jpg',\n",
       " 'https://marshemispheres.com/images/syrtis_major_enhanced-full.jpg',\n",
       " 'https://marshemispheres.com/images/valles_marineris_enhanced-full.jpg']"
      ]
     },
     "execution_count": 12,
     "metadata": {},
     "output_type": "execute_result"
    }
   ],
   "source": [
    "hemisphere_urls"
   ]
  },
  {
   "cell_type": "markdown",
   "metadata": {},
   "source": [
    "##### Append the dictionary with the hemisphere title and image url string to a list"
   ]
  },
  {
   "cell_type": "code",
   "execution_count": 13,
   "metadata": {},
   "outputs": [
    {
     "data": {
      "text/plain": [
       "[{'titles': 'Cerberus Hemisphere Enhanced',\n",
       "  'hemisphere_urls': 'https://marshemispheres.com/images/full.jpg'},\n",
       " {'titles': 'Schiaparelli Hemisphere Enhanced',\n",
       "  'hemisphere_urls': 'https://marshemispheres.com/images/schiaparelli_enhanced-full.jpg'},\n",
       " {'titles': 'Syrtis Major Hemisphere Enhanced',\n",
       "  'hemisphere_urls': 'https://marshemispheres.com/images/syrtis_major_enhanced-full.jpg'},\n",
       " {'titles': 'Valles Marineris Hemisphere Enhanced',\n",
       "  'hemisphere_urls': 'https://marshemispheres.com/images/valles_marineris_enhanced-full.jpg'}]"
      ]
     },
     "execution_count": 13,
     "metadata": {},
     "output_type": "execute_result"
    }
   ],
   "source": [
    "# create empty list\n",
    "hemisphere_image_urls = [\n",
    "{\"titles\": titles[0], \"hemisphere_urls\": hemisphere_urls[0]},\n",
    "{\"titles\": titles[1], \"hemisphere_urls\": hemisphere_urls[1]},\n",
    "{\"titles\": titles[2], \"hemisphere_urls\": hemisphere_urls[2]},\n",
    "{\"titles\": titles[3], \"hemisphere_urls\": hemisphere_urls[3]},\n",
    "]\n",
    "\n",
    "# print list\n",
    "hemisphere_image_urls"
   ]
  },
  {
   "cell_type": "code",
   "execution_count": 14,
   "metadata": {},
   "outputs": [],
   "source": [
    "# quit browser\n",
    "browser.quit()"
   ]
  }
 ],
 "metadata": {
  "kernelspec": {
   "display_name": "Python 3",
   "language": "python",
   "name": "python3"
  },
  "language_info": {
   "codemirror_mode": {
    "name": "ipython",
    "version": 3
   },
   "file_extension": ".py",
   "mimetype": "text/x-python",
   "name": "python",
   "nbconvert_exporter": "python",
   "pygments_lexer": "ipython3",
   "version": "3.8.5"
  }
 },
 "nbformat": 4,
 "nbformat_minor": 4
}
