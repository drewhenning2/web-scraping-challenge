{
 "cells": [
  {
   "cell_type": "code",
   "execution_count": 1,
   "metadata": {},
   "outputs": [],
   "source": [
    "from splinter import Browser\n",
    "from bs4 import BeautifulSoup\n",
    "from webdriver_manager.chrome import ChromeDriverManager"
   ]
  },
  {
   "cell_type": "code",
   "execution_count": 2,
   "metadata": {},
   "outputs": [
    {
     "name": "stderr",
     "output_type": "stream",
     "text": [
      "\n",
      "\n",
      "====== WebDriver manager ======\n",
      "Current google-chrome version is 91.0.4472\n",
      "Get LATEST driver version for 91.0.4472\n",
      "Driver [/Users/drewhenning/.wdm/drivers/chromedriver/mac64/91.0.4472.101/chromedriver] found in cache\n"
     ]
    }
   ],
   "source": [
    "executable_path = {'executable_path': ChromeDriverManager().install()}\n",
    "browser = Browser('chrome', **executable_path, headless=False)"
   ]
  },
  {
   "cell_type": "code",
   "execution_count": 3,
   "metadata": {},
   "outputs": [
    {
     "data": {
      "text/plain": [
       "[{'title': 'Cerberus Hemisphere Enhanced',\n",
       "  'img_url': 'https://marshemispheres.com/images/full.jpg'}]"
      ]
     },
     "execution_count": 3,
     "metadata": {},
     "output_type": "execute_result"
    }
   ],
   "source": [
    "# first hemisphere\n",
    "url = 'https://marshemispheres.com/cerberus.html'\n",
    "browser.visit(url)\n",
    "\n",
    "# extract html\n",
    "html = browser.html\n",
    "    \n",
    "# create soup object\n",
    "soup = BeautifulSoup(html, 'html.parser')\n",
    "    \n",
    "# get img_url\n",
    "img_url = \"https://marshemispheres.com/images/full.jpg\"\n",
    "\n",
    "# get title\n",
    "title = soup.find('h2', class_='title').text\n",
    "\n",
    "# create an empty list\n",
    "cerberus_hemisphere = []\n",
    "\n",
    "# append dictionary to empty list\n",
    "cerberus_hemisphere.append({\"title\": title, \"img_url\": img_url})\n",
    "\n",
    "# print list\n",
    "cerberus_hemisphere"
   ]
  },
  {
   "cell_type": "code",
   "execution_count": 4,
   "metadata": {},
   "outputs": [],
   "source": [
    "# # create a list to store the data\n",
    "# hemisphere_image_urls=[]\n",
    "\n",
    "# # loop through each url\n",
    "# for url in url:\n",
    "    \n",
    "#     # Navigate to the page\n",
    "#     # Assign the HTML content of the page to a variable\n",
    "#     html = browser.html\n",
    "    \n",
    "#     # Parse HTML with Beautifulsoup\n",
    "#     soup = BeautifulSoup(html,'html.parser')\n",
    "    \n",
    "#     # get img_url\n",
    "#     img_url = \"https://marshemispheres.com/images/full.jpg\"\n",
    "    \n",
    "#     # get title\n",
    "#     title = soup.find('h2', class_=\"title\").text\n",
    "    \n",
    "#     # append\n",
    "#     hemisphere_image_urls.append({\"img_url\": img_url, \"title\": title})\n",
    "    \n",
    "# hemisphere_image_urls"
   ]
  },
  {
   "cell_type": "code",
   "execution_count": 5,
   "metadata": {},
   "outputs": [
    {
     "data": {
      "text/plain": [
       "[{'title': 'Schiaparelli Hemisphere Enhanced',\n",
       "  'img_url': 'https://marshemispheres.com/images/schiaparelli_enhanced-full.jpg'}]"
      ]
     },
     "execution_count": 5,
     "metadata": {},
     "output_type": "execute_result"
    }
   ],
   "source": [
    "# second hemisphere\n",
    "url = 'https://marshemispheres.com/schiaparelli.html'\n",
    "browser.visit(url)\n",
    "\n",
    "# extract html\n",
    "html = browser.html\n",
    "    \n",
    "# create soup object\n",
    "soup = BeautifulSoup(html, 'html.parser')\n",
    "    \n",
    "# get img_url\n",
    "img_url = \"https://marshemispheres.com/images/schiaparelli_enhanced-full.jpg\"\n",
    "\n",
    "# get title\n",
    "title = soup.find('h2', class_='title').text\n",
    "\n",
    "# create an empty list\n",
    "schiaparelli_hemisphere = []\n",
    "\n",
    "# append dictionary to empty list\n",
    "schiaparelli_hemisphere.append({\"title\": title, \"img_url\": img_url})\n",
    "\n",
    "# print list\n",
    "schiaparelli_hemisphere"
   ]
  },
  {
   "cell_type": "code",
   "execution_count": 6,
   "metadata": {},
   "outputs": [
    {
     "data": {
      "text/plain": [
       "[{'title': 'Syrtis Major Hemisphere Enhanced',\n",
       "  'img_url': 'https://marshemispheres.com/images/syrtis_major_enhanced-full.jpg'}]"
      ]
     },
     "execution_count": 6,
     "metadata": {},
     "output_type": "execute_result"
    }
   ],
   "source": [
    "# third hemisphere\n",
    "url = 'https://marshemispheres.com/syrtis.html'\n",
    "browser.visit(url)\n",
    "\n",
    "# extract html\n",
    "html = browser.html\n",
    "    \n",
    "# create soup object\n",
    "soup = BeautifulSoup(html, 'html.parser')\n",
    "    \n",
    "# get img_url\n",
    "img_url = \"https://marshemispheres.com/images/syrtis_major_enhanced-full.jpg\"\n",
    "\n",
    "# get title\n",
    "title = soup.find('h2', class_='title').text\n",
    "\n",
    "# create an empty list\n",
    "syrtis_hemisphere = []\n",
    "\n",
    "# append dictionary to empty list\n",
    "syrtis_hemisphere.append({\"title\": title, \"img_url\": img_url})\n",
    "\n",
    "# print list\n",
    "syrtis_hemisphere"
   ]
  },
  {
   "cell_type": "code",
   "execution_count": 7,
   "metadata": {},
   "outputs": [
    {
     "data": {
      "text/plain": [
       "[{'title': 'Valles Marineris Hemisphere Enhanced',\n",
       "  'img_url': 'https://marshemispheres.com/images/valles_marineris_enhanced-full.jpg'}]"
      ]
     },
     "execution_count": 7,
     "metadata": {},
     "output_type": "execute_result"
    }
   ],
   "source": [
    "# fourth hemisphere\n",
    "url = 'https://marshemispheres.com/valles.html'\n",
    "browser.visit(url)\n",
    "\n",
    "# extract html\n",
    "html = browser.html\n",
    "    \n",
    "# create soup object\n",
    "soup = BeautifulSoup(html, 'html.parser')\n",
    "    \n",
    "# get img_url\n",
    "img_url = \"https://marshemispheres.com/images/valles_marineris_enhanced-full.jpg\"\n",
    "\n",
    "# get title\n",
    "title = soup.find('h2', class_='title').text\n",
    "\n",
    "# create an empty list\n",
    "valles_hemisphere = []\n",
    "\n",
    "# append dictionary to empty list\n",
    "valles_hemisphere.append({\"title\": title, \"img_url\": img_url})\n",
    "\n",
    "# print list\n",
    "valles_hemisphere"
   ]
  },
  {
   "cell_type": "code",
   "execution_count": 12,
   "metadata": {},
   "outputs": [
    {
     "data": {
      "text/plain": [
       "[[{'title': 'Cerberus Hemisphere Enhanced',\n",
       "   'img_url': 'https://marshemispheres.com/images/full.jpg'},\n",
       "  {'title': 'Schiaparelli Hemisphere Enhanced',\n",
       "   'img_url': 'https://marshemispheres.com/images/schiaparelli_enhanced-full.jpg'},\n",
       "  {'title': 'Syrtis Major Hemisphere Enhanced',\n",
       "   'img_url': 'https://marshemispheres.com/images/syrtis_major_enhanced-full.jpg'},\n",
       "  {'title': 'Valles Marineris Hemisphere Enhanced',\n",
       "   'img_url': 'https://marshemispheres.com/images/valles_marineris_enhanced-full.jpg'}]]"
      ]
     },
     "execution_count": 12,
     "metadata": {},
     "output_type": "execute_result"
    }
   ],
   "source": [
    "# create empty list to hold all 4 dictionaries\n",
    "hemisphere_image_urls = []\n",
    "\n",
    "# append all 4 dictionaries into empty list\n",
    "hemisphere_image_urls.append(cerberus_hemisphere+schiaparelli_hemisphere+syrtis_hemisphere+valles_hemisphere)\n",
    "\n",
    "# print new dictionary\n",
    "hemisphere_image_urls"
   ]
  },
  {
   "cell_type": "code",
   "execution_count": 10,
   "metadata": {},
   "outputs": [],
   "source": [
    "# quit browser\n",
    "browser.quit()"
   ]
  }
 ],
 "metadata": {
  "kernelspec": {
   "display_name": "Python 3",
   "language": "python",
   "name": "python3"
  },
  "language_info": {
   "codemirror_mode": {
    "name": "ipython",
    "version": 3
   },
   "file_extension": ".py",
   "mimetype": "text/x-python",
   "name": "python",
   "nbconvert_exporter": "python",
   "pygments_lexer": "ipython3",
   "version": "3.8.5"
  }
 },
 "nbformat": 4,
 "nbformat_minor": 4
}
